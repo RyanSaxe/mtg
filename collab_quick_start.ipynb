{
  "nbformat": 4,
  "nbformat_minor": 0,
  "metadata": {
    "colab": {
      "name": "collab_quick_start.ipynb",
      "provenance": [],
      "authorship_tag": "ABX9TyP8J0dXNy/kRbqbhiha6WWL",
      "include_colab_link": true
    },
    "kernelspec": {
      "name": "python3",
      "display_name": "Python 3"
    },
    "language_info": {
      "name": "python"
    }
  },
  "cells": [
    {
      "cell_type": "markdown",
      "metadata": {
        "id": "view-in-github",
        "colab_type": "text"
      },
      "source": [
        "<a href=\"https://colab.research.google.com/github/burn874/mtg/blob/main/collab_quick_start.ipynb\" target=\"_parent\"><img src=\"https://colab.research.google.com/assets/colab-badge.svg\" alt=\"Open In Colab\"/></a>"
      ]
    },
    {
      "cell_type": "markdown",
      "source": [
        "#### Init"
      ],
      "metadata": {
        "id": "xTMCvnSWuMvd"
      }
    },
    {
      "cell_type": "code",
      "execution_count": 1,
      "metadata": {
        "colab": {
          "base_uri": "https://localhost:8080/"
        },
        "id": "Ay0Ecgi6dMR3",
        "outputId": "5ab5505d-b928-46c2-883f-5b7273a9c268"
      },
      "outputs": [
        {
          "output_type": "stream",
          "name": "stdout",
          "text": [
            "Mounted at /content/drive\n"
          ]
        }
      ],
      "source": [
        "!git clone https://github.com/RyanSaxe/mtg.git\n",
        "%cd mtg\n",
        "!pip install .\n",
        "!wget https://17lands-public.s3.amazonaws.com/analysis_data/draft_data/draft-data.VOW.PremierDraft.tar.gz\n",
        "!wget https://17lands-public.s3.amazonaws.com/analysis_data/game_data/game-data.VOW.PremierDraft.tar.gz\n",
        "!tar -xf draft-data.VOW.PremierDraft.tar.gz\n",
        "!tar -xf game-data.VOW.PremierDraft.tar.gz"
      ]
    },
    {
      "cell_type": "markdown",
      "source": [
        "#### Imports"
      ],
      "metadata": {
        "id": "dtsQd8P6uRYx"
      }
    },
    {
      "cell_type": "code",
      "source": [
        "import pickle\n",
        "from mtg.ml.generator import DraftGenerator, create_train_and_val_gens\n",
        "from mtg.ml.models import DraftBot\n",
        "from mtg.ml.trainer import Trainer\n",
        "from mtg.utils.display import draft_log_ai\n",
        "from mtg.obj.expansion import VOW"
      ],
      "metadata": {
        "id": "joXzefhlnxUa"
      },
      "execution_count": 22,
      "outputs": []
    },
    {
      "cell_type": "markdown",
      "source": [
        "#### Preprocessing"
      ],
      "metadata": {
        "id": "AJxztrOXuTlV"
      }
    },
    {
      "cell_type": "code",
      "source": [
        "game_data = '/content/mtg/game_data_public.VOW.PremierDraft.csv'\n",
        "draft_data = '/content/mtg/draft_data_public.VOW.PremierDraft.csv'\n",
        "expansion_fname = 'expansion.pkl'\n",
        "\n",
        "expansion = VOW(\n",
        "    bo1 = game_data,\n",
        "    draft = draft_data,\n",
        "    ml_data = True,\n",
        ")\n",
        "\n",
        "with open(expansion_fname, \"wb\") as f:\n",
        "    pickle.dump(expansion, f)"
      ],
      "metadata": {
        "id": "23pdORBAoD1o"
      },
      "execution_count": 31,
      "outputs": []
    },
    {
      "cell_type": "markdown",
      "source": [
        "#### Training"
      ],
      "metadata": {
        "id": "Yz1CPSeFuWR7"
      }
    },
    {
      "cell_type": "code",
      "source": [
        "expansion_fname = \"expansion.pkl\"\n",
        "batch_size = 32\n",
        "train_p = 1.0\n",
        "emb_dim = 128\n",
        "num_encoder_heads = 8\n",
        "num_decoder_heads = 8\n",
        "pointwise_ffn_width = 512\n",
        "num_encoder_layers = 1\n",
        "num_decoder_layers = 1\n",
        "emb_dropout = 0.0\n",
        "transformer_dropout = 0.1\n",
        "output_MLP = True\n",
        "lr_warmup = 2000\n",
        "emb_margin = 1.0\n",
        "emb_lambda = 0.5\n",
        "rare_lambda = 10\n",
        "cmc_lambda = 0.1\n",
        "epochs = 10\n",
        "verbose = True\n",
        "model_name = 'draft_model'\n",
        "\n",
        "with open(expansion_fname, \"rb\") as f:\n",
        "    expansion = pickle.load(f)\n",
        "\n",
        "\n",
        "train_gen, val_gen = create_train_and_val_gens(\n",
        "    expansion.draft,\n",
        "    expansion.cards,\n",
        "    train_p = train_p,\n",
        "    id_col = \"draft_id\",\n",
        "    train_batch_size = batch_size,\n",
        "    generator = DraftGenerator,\n",
        "    include_val = True,\n",
        ")\n",
        "\n",
        "model = DraftBot(\n",
        "    cards = train_gen.cards,\n",
        "    card_data = expansion.card_data_for_ML[5:],\n",
        "    emb_dim = emb_dim,\n",
        "    t = expansion.draft[\"position\"].max() + 1,\n",
        "    num_encoder_heads = num_encoder_heads,\n",
        "    num_decoder_heads = num_decoder_heads,\n",
        "    pointwise_ffn_width = pointwise_ffn_width,\n",
        "    num_encoder_layers = num_encoder_layers,\n",
        "    num_decoder_layers = num_decoder_layers,\n",
        "    emb_dropout = emb_dropout,\n",
        "    memory_dropout = transformer_dropout,\n",
        "    name = \"DraftBot\",\n",
        "    output_MLP = output_MLP,\n",
        ")\n",
        "\n",
        "model.compile(\n",
        "    learning_rate = {\n",
        "        \"warmup_steps\": lr_warmup\n",
        "    },\n",
        "    margin = emb_margin,\n",
        "    emb_lambda = emb_lambda,\n",
        "    rare_lambda = rare_lambda,\n",
        "    cmc_lambda = cmc_lambda,\n",
        "    card_data = expansion.card_data_for_ML.iloc[5:-1],\n",
        ")\n",
        "trainer = Trainer(model, generator=train_gen, val_generator=val_gen,)\n",
        "trainer.train(\n",
        "    epochs,\n",
        "    print_keys = [\n",
        "        \"prediction_loss\", \"embedding_loss\", \"rare_loss\", \"cmc_loss\"\n",
        "    ],\n",
        "    verbose = verbose,\n",
        ")\n",
        "# we run inference once before saving the model in order to serialize it with the right input parameters for inference\n",
        "output_df, attention = draft_log_ai(\n",
        "    \"https://www.17lands.com/draft/79dcc54822204a20a88a0e68ec3f8564\",\n",
        "    model,\n",
        "    return_attention = True,\n",
        "    idx_to_name = model.idx_to_name,\n",
        "    t = model.t,\n",
        "    n_cards = model.n_cards,\n",
        ")\n",
        "model.save(model_name)"
      ],
      "metadata": {
        "colab": {
          "base_uri": "https://localhost:8080/"
        },
        "id": "U8W6edFhijou",
        "outputId": "9732b905-0c9f-438d-a0fe-d9a835751cdb"
      },
      "execution_count": null,
      "outputs": [
        {
          "output_type": "stream",
          "name": "stderr",
          "text": [
            "Epoch 1/10:  27%|██▋       | 835/3038 [16:25<42:52,  1.17s/Batch, cmc_loss=0.105, embedding_loss=7.98, loss=5.46, prediction_loss=1.31, rare_loss=0.0562, top1=0.513, top2=0.72, top3=0.828]"
          ]
        }
      ]
    },
    {
      "cell_type": "code",
      "source": [
        ""
      ],
      "metadata": {
        "id": "PfkJ7hSJijq9"
      },
      "execution_count": null,
      "outputs": []
    },
    {
      "cell_type": "code",
      "source": [
        ""
      ],
      "metadata": {
        "id": "b84_-2EiijtY"
      },
      "execution_count": null,
      "outputs": []
    },
    {
      "cell_type": "code",
      "source": [
        ""
      ],
      "metadata": {
        "id": "CvfwzLxrijv5"
      },
      "execution_count": null,
      "outputs": []
    },
    {
      "cell_type": "code",
      "source": [
        ""
      ],
      "metadata": {
        "id": "4TmBuPd8ijyX"
      },
      "execution_count": null,
      "outputs": []
    }
  ]
}